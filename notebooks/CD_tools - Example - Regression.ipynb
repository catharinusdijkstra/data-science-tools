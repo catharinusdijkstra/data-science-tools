{
 "cells": [
  {
   "cell_type": "markdown",
   "metadata": {},
   "source": [
    "# Import libraries"
   ]
  },
  {
   "cell_type": "code",
   "execution_count": 4,
   "metadata": {},
   "outputs": [
    {
     "ename": "ImportError",
     "evalue": "DLL load failed: The specified module could not be found.",
     "output_type": "error",
     "traceback": [
      "\u001b[1;31m---------------------------------------------------------------------------\u001b[0m",
      "\u001b[1;31mImportError\u001b[0m                               Traceback (most recent call last)",
      "\u001b[1;32m<ipython-input-4-5bb0a756cc73>\u001b[0m in \u001b[0;36m<module>\u001b[1;34m\u001b[0m\n\u001b[0;32m      3\u001b[0m \u001b[1;33m\u001b[0m\u001b[0m\n\u001b[0;32m      4\u001b[0m \u001b[1;31m#from CD_tools import CDML, compare_binary_columns, df_2_xlsx, df_balance, high_correlation_filter, PCA_analyse, voting_classifier, zero_variance_columns\u001b[0m\u001b[1;33m\u001b[0m\u001b[1;33m\u001b[0m\u001b[1;33m\u001b[0m\u001b[0m\n\u001b[1;32m----> 5\u001b[1;33m \u001b[1;32mimport\u001b[0m \u001b[0mmatplotlib\u001b[0m\u001b[1;33m.\u001b[0m\u001b[0mpyplot\u001b[0m \u001b[1;32mas\u001b[0m \u001b[0mplt\u001b[0m\u001b[1;33m\u001b[0m\u001b[1;33m\u001b[0m\u001b[0m\n\u001b[0m\u001b[0;32m      6\u001b[0m \u001b[1;32mimport\u001b[0m \u001b[0mnumpy\u001b[0m \u001b[1;32mas\u001b[0m \u001b[0mnp\u001b[0m\u001b[1;33m\u001b[0m\u001b[1;33m\u001b[0m\u001b[0m\n\u001b[0;32m      7\u001b[0m \u001b[1;32mimport\u001b[0m \u001b[0mpandas\u001b[0m \u001b[1;32mas\u001b[0m \u001b[0mpd\u001b[0m\u001b[1;33m\u001b[0m\u001b[1;33m\u001b[0m\u001b[0m\n",
      "\u001b[1;32mC:\\ProgramData\\Anaconda3\\envs\\ML_V4.0\\lib\\site-packages\\matplotlib\\__init__.py\u001b[0m in \u001b[0;36m<module>\u001b[1;34m\u001b[0m\n\u001b[0;32m    172\u001b[0m \u001b[1;33m\u001b[0m\u001b[0m\n\u001b[0;32m    173\u001b[0m \u001b[1;33m\u001b[0m\u001b[0m\n\u001b[1;32m--> 174\u001b[1;33m \u001b[0m_check_versions\u001b[0m\u001b[1;33m(\u001b[0m\u001b[1;33m)\u001b[0m\u001b[1;33m\u001b[0m\u001b[1;33m\u001b[0m\u001b[0m\n\u001b[0m\u001b[0;32m    175\u001b[0m \u001b[1;33m\u001b[0m\u001b[0m\n\u001b[0;32m    176\u001b[0m \u001b[1;33m\u001b[0m\u001b[0m\n",
      "\u001b[1;32mC:\\ProgramData\\Anaconda3\\envs\\ML_V4.0\\lib\\site-packages\\matplotlib\\__init__.py\u001b[0m in \u001b[0;36m_check_versions\u001b[1;34m()\u001b[0m\n\u001b[0;32m    157\u001b[0m     \u001b[1;31m# Quickfix to ensure Microsoft Visual C++ redistributable\u001b[0m\u001b[1;33m\u001b[0m\u001b[1;33m\u001b[0m\u001b[1;33m\u001b[0m\u001b[0m\n\u001b[0;32m    158\u001b[0m     \u001b[1;31m# DLLs are loaded before importing kiwisolver\u001b[0m\u001b[1;33m\u001b[0m\u001b[1;33m\u001b[0m\u001b[1;33m\u001b[0m\u001b[0m\n\u001b[1;32m--> 159\u001b[1;33m     \u001b[1;32mfrom\u001b[0m \u001b[1;33m.\u001b[0m \u001b[1;32mimport\u001b[0m \u001b[0mft2font\u001b[0m\u001b[1;33m\u001b[0m\u001b[1;33m\u001b[0m\u001b[0m\n\u001b[0m\u001b[0;32m    160\u001b[0m \u001b[1;33m\u001b[0m\u001b[0m\n\u001b[0;32m    161\u001b[0m     for modname, minver in [\n",
      "\u001b[1;31mImportError\u001b[0m: DLL load failed: The specified module could not be found."
     ]
    }
   ],
   "source": [
    "from warnings import simplefilter # import warnings filter\n",
    "simplefilter(action='ignore', category=FutureWarning) # ignore all future warnings\n",
    "\n",
    "from CD_tools import CDML, compare_binary_columns, df_2_xlsx, df_balance, high_correlation_filter, PCA_analyse, voting_classifier, zero_variance_columns\n",
    "import matplotlib.pyplot as plt\n",
    "import numpy as np\n",
    "import pandas as pd\n",
    "from sklearn.model_selection import StratifiedKFold"
   ]
  },
  {
   "cell_type": "markdown",
   "metadata": {},
   "source": [
    "# Options"
   ]
  },
  {
   "cell_type": "code",
   "execution_count": null,
   "metadata": {},
   "outputs": [],
   "source": [
    "%matplotlib inline\n",
    "pd.options.display.max_columns = None\n",
    "plt.rcParams['figure.figsize'] = [16, 8]"
   ]
  },
  {
   "cell_type": "markdown",
   "metadata": {},
   "source": [
    "# Read and prepare the house dataset"
   ]
  },
  {
   "cell_type": "code",
   "execution_count": null,
   "metadata": {},
   "outputs": [],
   "source": [
    "df_house = pd.read_csv('D:/Documents/4. Science/Data Science/Datasets/House sales/kc_house_data.csv',header=0)\n",
    "df_house['sqft_living'] = np.asarray(df_house['sqft_living'],dtype=np.float64) # Convert 'sqft_living' from integer to float to prevent errors when running models.\n",
    "df_house = df_house[df_house['bedrooms'] != 33] # Remove house with 33(!) bedrooms.\n",
    "df_house.sort_values(by=['sqft_living','price'])\n",
    "\n",
    "keys = ['id','date']\n",
    "features = ['sqft_living','sqft_lot','sqft_above','sqft_basement']\n",
    "\n",
    "features = ['bedrooms', 'bathrooms', 'sqft_living',\n",
    "       'sqft_lot', 'floors', 'waterfront', 'view', 'condition', 'grade',\n",
    "       'sqft_above', 'sqft_basement',\n",
    "       'sqft_living15', 'sqft_lot15']\n",
    "\n",
    "#features = ['x1','x2']\n",
    "#features_categorical = []\n",
    "\n",
    "features_categorical = ['bedrooms', 'bathrooms',\n",
    "                       'floors', 'waterfront', 'view', 'condition', 'grade']\n",
    "\n",
    "features_categorical_classes_2_drop = []\n",
    "label = ['price']\n",
    "#label = ['y']\n",
    "\n",
    "#features = ['sqft_living','sqft_lot','view','sqft_above','sqft_basement']\n",
    "#features_categorical = ['view']\n",
    "#features_categorical_classes_2_drop = [4]\n",
    "\n",
    "#df_house['x1'] = df_house['price']\n",
    "#df_house['x2'] = df_house['price'].apply(lambda x: x**2)\n",
    "#df_house['y'] = df_house['price'].apply(lambda x: x**2)\n",
    "#df_house = df_house[keys+features+label]"
   ]
  },
  {
   "cell_type": "code",
   "execution_count": null,
   "metadata": {},
   "outputs": [],
   "source": [
    "df_house.columns"
   ]
  },
  {
   "cell_type": "markdown",
   "metadata": {},
   "source": [
    "# Build a regression model with default settings"
   ]
  },
  {
   "cell_type": "code",
   "execution_count": null,
   "metadata": {},
   "outputs": [],
   "source": [
    "rc = CDML(df_house,keys,features,label[0],features_categorical=features_categorical,features_categorical_classes_2_drop=features_categorical_classes_2_drop)\n",
    "rc.split_data(test_size=0.2,random_state=None,sampling=None)\n",
    "#rc.regression_model_data(\"LinearRegression()\",nrfolds=5)\n",
    "rc.regression_model_data(\"RandomForestRegressor()\",nrfolds=5)\n",
    "rc.regression_save_weights()\n",
    "maximum = 1.01*max(rc.data.df[rc.data.label[0]])\n",
    "rc.regression_show_residuals(xmin=0,xmax=maximum,ymin=0,ymax=maximum,nrbins=201)\n",
    "rc.show_learning_curve(ylim=None,cv=None,n_jobs=4,train_sizes=np.linspace(0.3,1.0,10),scoring='r2')\n",
    "rc.save_feature_importance()"
   ]
  },
  {
   "cell_type": "code",
   "execution_count": null,
   "metadata": {},
   "outputs": [],
   "source": [
    "rc.model.df_train_incl_predictions"
   ]
  },
  {
   "cell_type": "code",
   "execution_count": null,
   "metadata": {},
   "outputs": [],
   "source": [
    "rc.model.df_test_incl_predictions"
   ]
  },
  {
   "cell_type": "markdown",
   "metadata": {},
   "source": [
    "# Optimize the classification model using hyperparameter tuning"
   ]
  },
  {
   "cell_type": "code",
   "execution_count": null,
   "metadata": {},
   "outputs": [],
   "source": [
    "# Setup hyperparameter search grid\n",
    "random_grid = {'n_estimators': [10,50,100,150,200,250,500],\n",
    "               'criterion': ['gini','entropy'],\n",
    "               'max_depth': [5,10,None],\n",
    "               'min_samples_split': [2,10,50,100,500],\n",
    "               'min_samples_leaf': [1,10,50,100,500],\n",
    "               'min_weight_fraction_leaf': [0.0],\n",
    "               'max_features': ['auto',None],\n",
    "               'max_leaf_nodes': [None],\n",
    "               'min_impurity_decrease': [0.0],\n",
    "               'min_impurity_split': [None],\n",
    "               'bootstrap': [True],\n",
    "               'oob_score': [False],\n",
    "               'n_jobs': [-1],\n",
    "               'random_state': [0],\n",
    "               'verbose': [0],\n",
    "               'warm_start': [False],\n",
    "               'class_weight': [None]\n",
    "              }\n",
    "\n",
    "# Search the hyperparameter grid for the optimal hyperparameters\n",
    "rc = CDML(df_titanic,keys,features,features_categorical,label[0],features_categorical_classes_2_drop=features_categorical_classes_2_drop)\n",
    "rc.split_data(test_size=0.1,random_state=0,sampling=None)\n",
    "rc.classification_model_data(\"RandomForestClassifier(random_state=0)\",threshold=0.5) # Run a model with default settings\n",
    "rc.RandomizedSearchCV(random_grid,n_iter=100)\n",
    "best_estimator = rc.model.randomized_search_CV.random_search.best_estimator_\n",
    "print(\"Best estimator:\")\n",
    "print(best_estimator)\n",
    "print()\n",
    "# Run the model with the optimal hyperparameters\n",
    "#rc = CDML(df_titanic,keys,features,features_categorical,label[0],features_categorical_classes_2_drop=features_categorical_classes_2_drop)\n",
    "#rc.split_data(test_size=0.1,random_state=0,sampling=None)\n",
    "rc.classification_model_data(str(best_estimator),threshold=0.5) # Run the model with the optimal hyperparameters\n",
    "rc.show_learning_curve(ylim=(0,1),cv=StratifiedKFold(12),n_jobs=4,train_sizes=np.linspace(0.3,1.0,10),scoring='roc_auc')\n",
    "rc.classification_show_ROC_precision_recall_curves(show_labels='Y',label_interval=6,label_offsets_ROC=[15,-20],label_offsets_PR=[-30,-30])\n",
    "rc.classification_show_prediction_distributions(nrbins=51)\n",
    "rc.save_feature_importance()\n",
    "rc.classification_show_interpretation_table(sort_columns='Y',top=5)\n",
    "rc.classification_transpose_interpretation_table()\n",
    "rc.classification_show_interpretation_table_LIME(top=5,num_samples=5000)\n",
    "rc.classification_transpose_interpretation_table_LIME()"
   ]
  }
 ],
 "metadata": {
  "kernelspec": {
   "display_name": "ML_V4.0",
   "language": "python",
   "name": "ml_v4.0"
  },
  "language_info": {
   "codemirror_mode": {
    "name": "ipython",
    "version": 3
   },
   "file_extension": ".py",
   "mimetype": "text/x-python",
   "name": "python",
   "nbconvert_exporter": "python",
   "pygments_lexer": "ipython3",
   "version": "3.7.4"
  }
 },
 "nbformat": 4,
 "nbformat_minor": 4
}
